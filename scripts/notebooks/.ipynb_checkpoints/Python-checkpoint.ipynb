{
 "cells": [
  {
   "cell_type": "markdown",
   "metadata": {
    "deletable": true,
    "editable": true
   },
   "source": [
    "# Modèles non paramétriques : Python\n",
    "\n",
    "### Auteur : [Menyssa CHERIFA](https://www.linkedin.com/in/menyssacherifa/)\n",
    "### Projet : [Mimic](https://github.com/mcherifa/Mimic) \n"
   ]
  },
  {
   "cell_type": "markdown",
   "metadata": {
    "deletable": true,
    "editable": true
   },
   "source": [
    "# 1 -  Python \n",
    "\n",
    "![](http://www.bebetterdeveloper.com/img/post_img/python-logo.png)\n",
    " \n",
    "\n",
    "Le langage Python est développé et diffusé par la Python Software Foundation selon une licence GPL-compatible. À partir d'applications initialement de calcul scientifique (image, signal...), son utilisation s'est généralisée dans de nombreux domaines et notamment pour l'analyse statistique de données pouvant être volumineuses. Il est donc \"libre\", efficace en calcul numérique (librairie NumPy), orienté objet, propose de la programmation fonctionnelle... et bénéficie d'une communauté très active qui développe de nombreuses applications et librairies comme notamment la librairie d'apprentissage statistique : [**scikit-learn**](http://scikit-learn.org/stable/)\n",
    "\n",
    "Elle contient des fonctionnalités intéressantes telles que :\n",
    "***\n",
    "\n",
    "* Transformations (standardisation, discrétisation binaire, regroupement de modalités, imputations rudimentaires de données manquantes),\"vectorsation\" e corpus de textes (encodage, catalogue, Tf-idf), images.\n",
    "* Exploration  :  ACP,  classification  non  supervisée  (mélanges  gaussiens, propagation d’affinité, ascendante hiérarchique, SOM,...)\n",
    "* Modéle linéaire général avec pénalisation (ridge, lasso, elastic net...), ana-lyse discriminante linéaire et quadratique,k plus proches voisins,proces-sus gaussiens, classifieur bayésien naïf, arbres de régression et classifica-tion (CART), agrégation de modèles (bagging, random forest, adaboost,gradient tree boosting), SVM (classification, régression, détection d’aty-piques...).\n",
    "* Algorithmes de validation croisée (loo, k-fold, VC stratifiée...) et sélec-tion  de  modèles,  optimisation  sur  une  grille  de  paramètres,  séparation aléatoire apprentissage et test, enchaînement (pipe line) de traitements,courbe ROC.\n",
    "***\n",
    "\n",
    "En résumé, cette librairie est focalisée sur les aspects \"machine\" de l’appren-tissage de données quantitatives (séries, signaux, images) volumineuses tandis que R intègre l’analyse de variables qualitatives complexes et l’interprétation statistique fine des résultats au détriment parfois de l’efficacité des calculs. Les différences d’usage entre R et\n",
    "Pyhton.scikitlearn résument finalement les nuances qui peuvent être mises en évidences entre apprentissage Statistiqueet apprentissage Machine.\n",
    "\n",
    "\n",
    "### 1.1 Importation des modules nécessaires"
   ]
  },
  {
   "cell_type": "code",
<<<<<<< HEAD:scripts/notebooks/.ipynb_checkpoints/Untitled-checkpoint.ipynb
   "execution_count": 2,
   "metadata": {
    "collapsed": true,
    "deletable": true,
    "editable": true
   },
=======
   "execution_count": 113,
   "metadata": {},
>>>>>>> e0a52adcf5eafc96ff4adb03d0cae49bf61f4188:scripts/notebooks/.ipynb_checkpoints/Python-checkpoint.ipynb
   "outputs": [],
   "source": [
    "import pandas as pd\n",
    "import numpy as npA\n",
    "import keras\n",
    "import tensorflow\n",
    "import matplotlib.pyplot as plt\n",
    "from sklearn.cross_validation import train_test_split\n",
    "from sklearn.metrics import accuracy_score\n",
    "from sklearn import metrics\n",
    "from sklearn.preprocessing import LabelEncoder"
   ]
  },
  {
   "cell_type": "markdown",
   "metadata": {
    "deletable": true,
    "editable": true
   },
   "source": [
    "### 1.2 Les données \n",
    "\n",
    "Les données utilisées contiennent des variables à **\"baseline\"** :\n",
    "***\n",
    " * Âge, sexe, bmi, saps II à l'admission, mode d'admission,  ventilation ( oui / non ) , amine ( oui /non )\n",
    "***\n",
    " et des variables issues des **scopes mesurées chaque minutes** :\n",
    "***\n",
    "* Fréquence cardiaque, SpO2, Pression artérielle ( diastolique, systolique et moyenne), fréquence respiratoire\n",
    "***\n",
    "\n",
    "*Les variables numériques sont toutes centrées réduites*\n"
   ]
  },
  {
   "cell_type": "code",
<<<<<<< HEAD:scripts/notebooks/.ipynb_checkpoints/Untitled-checkpoint.ipynb
   "execution_count": 3,
   "metadata": {
    "collapsed": true,
    "deletable": true,
    "editable": true
   },
   "outputs": [
    {
     "data": {
      "text/html": [
       "<div>\n",
       "<table border=\"1\" class=\"dataframe\">\n",
       "  <thead>\n",
       "    <tr style=\"text-align: right;\">\n",
       "      <th></th>\n",
       "      <th>gender</th>\n",
       "      <th>event</th>\n",
       "      <th>ventilation</th>\n",
       "      <th>amine</th>\n",
       "      <th>admission_type_descr</th>\n",
       "      <th>age</th>\n",
       "      <th>bmi</th>\n",
       "      <th>sapsi_first</th>\n",
       "      <th>hr.t1</th>\n",
       "      <th>hr.t2</th>\n",
       "      <th>...</th>\n",
       "      <th>resp.t51</th>\n",
       "      <th>resp.t52</th>\n",
       "      <th>resp.t53</th>\n",
       "      <th>resp.t54</th>\n",
       "      <th>resp.t55</th>\n",
       "      <th>resp.t56</th>\n",
       "      <th>resp.t57</th>\n",
       "      <th>resp.t58</th>\n",
       "      <th>resp.t59</th>\n",
       "      <th>resp.t60</th>\n",
       "    </tr>\n",
       "  </thead>\n",
       "  <tbody>\n",
       "    <tr>\n",
       "      <th>0</th>\n",
       "      <td>1</td>\n",
       "      <td>1</td>\n",
       "      <td>1</td>\n",
       "      <td>2</td>\n",
       "      <td>2</td>\n",
       "      <td>2.034570</td>\n",
       "      <td>0.941879</td>\n",
       "      <td>-0.394433</td>\n",
       "      <td>1.073000</td>\n",
       "      <td>1.035382</td>\n",
       "      <td>...</td>\n",
       "      <td>2.163947</td>\n",
       "      <td>2.155122</td>\n",
       "      <td>1.366417</td>\n",
       "      <td>2.431429</td>\n",
       "      <td>1.833427</td>\n",
       "      <td>1.925824</td>\n",
       "      <td>2.001458</td>\n",
       "      <td>2.090400</td>\n",
       "      <td>2.277622</td>\n",
       "      <td>1.567321</td>\n",
       "    </tr>\n",
       "    <tr>\n",
       "      <th>1</th>\n",
       "      <td>1</td>\n",
       "      <td>1</td>\n",
       "      <td>1</td>\n",
       "      <td>2</td>\n",
       "      <td>2</td>\n",
       "      <td>2.034570</td>\n",
       "      <td>0.941879</td>\n",
       "      <td>-0.394433</td>\n",
       "      <td>0.907978</td>\n",
       "      <td>0.631162</td>\n",
       "      <td>...</td>\n",
       "      <td>1.747610</td>\n",
       "      <td>1.943482</td>\n",
       "      <td>2.591241</td>\n",
       "      <td>2.500904</td>\n",
       "      <td>1.942805</td>\n",
       "      <td>2.078433</td>\n",
       "      <td>2.107142</td>\n",
       "      <td>2.238025</td>\n",
       "      <td>1.235874</td>\n",
       "      <td>1.795233</td>\n",
       "    </tr>\n",
       "    <tr>\n",
       "      <th>2</th>\n",
       "      <td>1</td>\n",
       "      <td>1</td>\n",
       "      <td>1</td>\n",
       "      <td>2</td>\n",
       "      <td>2</td>\n",
       "      <td>2.034570</td>\n",
       "      <td>0.941879</td>\n",
       "      <td>-0.394433</td>\n",
       "      <td>1.291830</td>\n",
       "      <td>1.150519</td>\n",
       "      <td>...</td>\n",
       "      <td>1.906005</td>\n",
       "      <td>2.125440</td>\n",
       "      <td>1.986605</td>\n",
       "      <td>2.038740</td>\n",
       "      <td>2.124777</td>\n",
       "      <td>2.920641</td>\n",
       "      <td>2.522536</td>\n",
       "      <td>2.090400</td>\n",
       "      <td>1.792973</td>\n",
       "      <td>2.058219</td>\n",
       "    </tr>\n",
       "    <tr>\n",
       "      <th>3</th>\n",
       "      <td>2</td>\n",
       "      <td>1</td>\n",
       "      <td>2</td>\n",
       "      <td>2</td>\n",
       "      <td>1</td>\n",
       "      <td>0.694836</td>\n",
       "      <td>-0.900769</td>\n",
       "      <td>0.114566</td>\n",
       "      <td>-1.580732</td>\n",
       "      <td>-1.614740</td>\n",
       "      <td>...</td>\n",
       "      <td>0.824324</td>\n",
       "      <td>0.673790</td>\n",
       "      <td>-0.012013</td>\n",
       "      <td>0.024406</td>\n",
       "      <td>0.378311</td>\n",
       "      <td>0.966541</td>\n",
       "      <td>-1.257862</td>\n",
       "      <td>-1.528963</td>\n",
       "      <td>-1.298952</td>\n",
       "      <td>0.626952</td>\n",
       "    </tr>\n",
       "    <tr>\n",
       "      <th>4</th>\n",
       "      <td>2</td>\n",
       "      <td>1</td>\n",
       "      <td>2</td>\n",
       "      <td>2</td>\n",
       "      <td>1</td>\n",
       "      <td>0.694836</td>\n",
       "      <td>-0.900769</td>\n",
       "      <td>0.114566</td>\n",
       "      <td>-1.402830</td>\n",
       "      <td>-1.436384</td>\n",
       "      <td>...</td>\n",
       "      <td>0.581459</td>\n",
       "      <td>0.794238</td>\n",
       "      <td>0.629372</td>\n",
       "      <td>0.680371</td>\n",
       "      <td>0.832897</td>\n",
       "      <td>0.771888</td>\n",
       "      <td>1.096525</td>\n",
       "      <td>0.866775</td>\n",
       "      <td>0.977612</td>\n",
       "      <td>0.459706</td>\n",
       "    </tr>\n",
       "  </tbody>\n",
       "</table>\n",
       "<p>5 rows × 368 columns</p>\n",
       "</div>"
      ],
      "text/plain": [
       "   gender  event  ventilation  amine  admission_type_descr       age  \\\n",
       "0       1      1            1      2                     2  2.034570   \n",
       "1       1      1            1      2                     2  2.034570   \n",
       "2       1      1            1      2                     2  2.034570   \n",
       "3       2      1            2      2                     1  0.694836   \n",
       "4       2      1            2      2                     1  0.694836   \n",
       "\n",
       "        bmi  sapsi_first     hr.t1     hr.t2    ...     resp.t51  resp.t52  \\\n",
       "0  0.941879    -0.394433  1.073000  1.035382    ...     2.163947  2.155122   \n",
       "1  0.941879    -0.394433  0.907978  0.631162    ...     1.747610  1.943482   \n",
       "2  0.941879    -0.394433  1.291830  1.150519    ...     1.906005  2.125440   \n",
       "3 -0.900769     0.114566 -1.580732 -1.614740    ...     0.824324  0.673790   \n",
       "4 -0.900769     0.114566 -1.402830 -1.436384    ...     0.581459  0.794238   \n",
       "\n",
       "   resp.t53  resp.t54  resp.t55  resp.t56  resp.t57  resp.t58  resp.t59  \\\n",
       "0  1.366417  2.431429  1.833427  1.925824  2.001458  2.090400  2.277622   \n",
       "1  2.591241  2.500904  1.942805  2.078433  2.107142  2.238025  1.235874   \n",
       "2  1.986605  2.038740  2.124777  2.920641  2.522536  2.090400  1.792973   \n",
       "3 -0.012013  0.024406  0.378311  0.966541 -1.257862 -1.528963 -1.298952   \n",
       "4  0.629372  0.680371  0.832897  0.771888  1.096525  0.866775  0.977612   \n",
       "\n",
       "   resp.t60  \n",
       "0  1.567321  \n",
       "1  1.795233  \n",
       "2  2.058219  \n",
       "3  0.626952  \n",
       "4  0.459706  \n",
       "\n",
       "[5 rows x 368 columns]"
      ]
     },
     "execution_count": 3,
     "metadata": {},
     "output_type": "execute_result"
    }
   ],
=======
   "execution_count": 413,
   "metadata": {},
   "outputs": [],
>>>>>>> e0a52adcf5eafc96ff4adb03d0cae49bf61f4188:scripts/notebooks/.ipynb_checkpoints/Python-checkpoint.ipynb
   "source": [
    "# Chargement des données \n",
    "df = pd.read_csv(\"../../data/clean/df.csv\")\n",
    "\n",
    "# Premières lignes du data \n",
    "# df.head()"
   ]
  },
  {
   "cell_type": "code",
<<<<<<< HEAD:scripts/notebooks/.ipynb_checkpoints/Untitled-checkpoint.ipynb
   "execution_count": 4,
   "metadata": {
    "collapsed": false,
    "deletable": true,
    "editable": true
   },
=======
   "execution_count": 414,
   "metadata": {},
>>>>>>> e0a52adcf5eafc96ff4adb03d0cae49bf61f4188:scripts/notebooks/.ipynb_checkpoints/Python-checkpoint.ipynb
   "outputs": [
    {
     "data": {
      "text/plain": [
       "(5790, 368)"
      ]
     },
     "execution_count": 414,
     "metadata": {},
     "output_type": "execute_result"
    }
   ],
   "source": [
    "# Dimension du data \n",
    "df.shape"
   ]
  },
  {
   "cell_type": "code",
<<<<<<< HEAD:scripts/notebooks/.ipynb_checkpoints/Untitled-checkpoint.ipynb
   "execution_count": 16,
   "metadata": {
    "collapsed": true,
    "deletable": true,
    "editable": true
   },
   "outputs": [
    {
     "data": {
      "text/plain": [
       "gender                  5790\n",
       "event                   5790\n",
       "ventilation             5790\n",
       "amine                   5790\n",
       "admission_type_descr    5790\n",
       "age                     5790\n",
       "bmi                     5790\n",
       "sapsi_first             5790\n",
       "hr.t1                   5790\n",
       "hr.t2                   5790\n",
       "hr.t3                   5790\n",
       "hr.t4                   5790\n",
       "hr.t5                   5790\n",
       "hr.t6                   5790\n",
       "hr.t7                   5790\n",
       "hr.t8                   5790\n",
       "hr.t9                   5790\n",
       "hr.t10                  5790\n",
       "hr.t11                  5790\n",
       "hr.t12                  5790\n",
       "hr.t13                  5790\n",
       "hr.t14                  5790\n",
       "hr.t15                  5790\n",
       "hr.t16                  5790\n",
       "hr.t17                  5790\n",
       "hr.t18                  5790\n",
       "hr.t19                  5790\n",
       "hr.t20                  5790\n",
       "hr.t21                  5790\n",
       "hr.t22                  5790\n",
       "                        ... \n",
       "resp.t31                5790\n",
       "resp.t32                5790\n",
       "resp.t33                5790\n",
       "resp.t34                5790\n",
       "resp.t35                5790\n",
       "resp.t36                5790\n",
       "resp.t37                5790\n",
       "resp.t38                5790\n",
       "resp.t39                5790\n",
       "resp.t40                5790\n",
       "resp.t41                5790\n",
       "resp.t42                5790\n",
       "resp.t43                5790\n",
       "resp.t44                5790\n",
       "resp.t45                5790\n",
       "resp.t46                5790\n",
       "resp.t47                5790\n",
       "resp.t48                5790\n",
       "resp.t49                5790\n",
       "resp.t50                5790\n",
       "resp.t51                5790\n",
       "resp.t52                5790\n",
       "resp.t53                5790\n",
       "resp.t54                5790\n",
       "resp.t55                5790\n",
       "resp.t56                5790\n",
       "resp.t57                5790\n",
       "resp.t58                5790\n",
       "resp.t59                5790\n",
       "resp.t60                5790\n",
       "dtype: int64"
      ]
     },
     "execution_count": 16,
     "metadata": {},
     "output_type": "execute_result"
    }
   ],
=======
   "execution_count": 416,
   "metadata": {},
   "outputs": [],
>>>>>>> e0a52adcf5eafc96ff4adb03d0cae49bf61f4188:scripts/notebooks/.ipynb_checkpoints/Python-checkpoint.ipynb
   "source": [
    "# Pas de valeurs manquantes \n",
    "# df.count()"
   ]
  },
  {
   "cell_type": "markdown",
   "metadata": {
    "deletable": true,
    "editable": true
   },
   "source": [
    "Toutes les variables sont lus comme des variables numériques. Il faut donc redéfinir les bons types pour les variables qualitatives. De plus, Il est nécessaire de transformer les données car scikit-learn ne reconnaît pas la classe DataFrame de pandas Les variables qualitatives sont comme précédemment remplacées par les indicatrices de leurs modalités et les variables quantitatives conservées. Cela introduit une évidente redondance dans les données mais les procédures de sélection de modèle feront le tri."
   ]
  },
  {
   "cell_type": "code",
   "execution_count": 417,
   "metadata": {
    "collapsed": true,
    "deletable": true,
    "editable": true
   },
   "outputs": [],
   "source": [
    "df[\"gender\"] = pd.Categorical(df[\"gender\"], ordered=False)\n",
    "df[\"event\"] = pd.Categorical(df[\"event\"], ordered=False)\n",
    "df[\"ventilation\"] = pd.Categorical(df[\"ventilation\"], ordered=False)\n",
    "df[\"amine\"] = pd.Categorical(df[\"amine\"], ordered=False)\n",
    "df[\"admission_type_descr\"] = pd.Categorical(df[\"admission_type_descr\"], ordered=False)\n",
    "\n",
    "# Vérification des changements \n",
    "# df.dtypes\n"
   ]
  },
  {
<<<<<<< HEAD:scripts/notebooks/.ipynb_checkpoints/Untitled-checkpoint.ipynb
   "cell_type": "code",
   "execution_count": 6,
   "metadata": {
    "collapsed": true,
    "deletable": true,
    "editable": true
   },
   "outputs": [],
   "source": [
    "# Table des indicatrices\n",
    "df1 = pd.get_dummies(df[[\"gender\",\"event\",\n",
    "\"ventilation\",\"amine\",\"admission_type_descr\"]])\n",
    "\n",
    "# Une seule indicatrice par variable binaire\n",
    "df1 = df1.drop([\"gender_2\",\"event_2\",\"ventilation_2\",\"amine_2\"],axis=1)\n",
    "\n",
    "# Variables quantitatives\n",
    "df2 = df.drop([\"gender\",\"event\",\n",
    "\"ventilation\",\"amine\",\"admission_type_descr\"],axis=1)\n",
    "\n",
    "# Concaténation\n",
    "df_c = pd.concat([df1,df2],axis=1)\n",
    "\n",
    "# Vérification\n",
    "# df_c.columns\n"
   ]
  },
  {
=======
>>>>>>> e0a52adcf5eafc96ff4adb03d0cae49bf61f4188:scripts/notebooks/.ipynb_checkpoints/Python-checkpoint.ipynb
   "cell_type": "markdown",
   "metadata": {
    "deletable": true,
    "editable": true
   },
   "source": [
    "### 1.3 Modélisation et apprentissage statistiques\n",
    "\n",
    "#### 1.3.1 Extraction des échantillons \n",
    "\n",
    "Le travail préliminaire consiste à séparer la base de données en un échantillon d'apprentissage et un autre de test pour estimer les erreurs de prédictions. L'optimisation ( biais / variance) de la complexicité des modèles est réalisée en minimisant l'erreur estimée par validation croisée."
   ]
  },
  {
   "cell_type": "code",
   "execution_count": 418,
   "metadata": {
<<<<<<< HEAD:scripts/notebooks/.ipynb_checkpoints/Untitled-checkpoint.ipynb
    "collapsed": true,
    "deletable": true,
    "editable": true
=======
    "scrolled": true
>>>>>>> e0a52adcf5eafc96ff4adb03d0cae49bf61f4188:scripts/notebooks/.ipynb_checkpoints/Python-checkpoint.ipynb
   },
   "outputs": [],
   "source": [
    "# Variables explicatives\n",
    "X = df.drop(\"event\", 1)\n",
    "\n",
    "# Variable à modéliser\n",
    "Y = df[\"event\"]\n",
    "\n",
    "# Extractions\n",
    "X_train,X_test,Y_train,Y_test=train_test_split(X,Y,\n",
    "test_size = 0.3,random_state=11)"
   ]
  },
  {
   "cell_type": "markdown",
   "metadata": {
    "deletable": true,
    "editable": true
   },
   "source": [
    "#### 1.3.2 Deep Learning\n"
   ]
  },
  {
   "cell_type": "code",
<<<<<<< HEAD:scripts/notebooks/.ipynb_checkpoints/Untitled-checkpoint.ipynb
   "execution_count": null,
   "metadata": {
    "collapsed": true,
    "deletable": true,
    "editable": true
   },
   "outputs": [],
   "source": []
=======
   "execution_count": 421,
   "metadata": {},
   "outputs": [
    {
     "name": "stdout",
     "output_type": "stream",
     "text": [
      "Epoch 1/5\n",
      "4053/4053 [==============================] - 0s - loss: 0.4561 - acc: 0.7862     \n",
      "Epoch 2/5\n",
      "4053/4053 [==============================] - 0s - loss: 0.1465 - acc: 0.9843     \n",
      "Epoch 3/5\n",
      "4053/4053 [==============================] - 0s - loss: 0.1165 - acc: 0.9858     \n",
      "Epoch 4/5\n",
      "4053/4053 [==============================] - 0s - loss: 0.1109 - acc: 0.9859     \n",
      "Epoch 5/5\n",
      "4053/4053 [==============================] - 0s - loss: 0.1089 - acc: 0.9859     \n",
      " 500/1737 [=======>......................] - ETA: 1sTest loss: 0.14154548237\n",
      "Test accuracy: 0.978890847803\n",
      "Training accuracy: 96.83%\n",
      " table de contingence :  col_0     1\n",
      "row_0      \n",
      "1      1682\n",
      "2        55\n",
      " précision =  0.96833621186\n"
     ]
    },
    {
     "data": {
      "image/png": "iVBORw0KGgoAAAANSUhEUgAAARAAAAHTCAYAAADvdkcPAAAABHNCSVQICAgIfAhkiAAAAAlwSFlz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\nhQ/aPTmOu/gAAAAASUVORK5CYII=\n",
      "text/plain": [
       "<matplotlib.figure.Figure at 0x7f8517131400>"
      ]
     },
     "metadata": {},
     "output_type": "display_data"
    }
   ],
   "source": [
    "from keras.models import Sequential\n",
    "from keras.layers import Dense, Dropout, Activation\n",
    "from keras.optimizers import SGD\n",
    "\n",
    "\n",
    "# Echantillions pour deep learning\n",
    "x_train = npA.array(X_train)\n",
    "x_test = npA.array(X_test)\n",
    "\n",
    "y_train = keras.utils.to_categorical(Y_train,num_classes=3)\n",
    "y_test = keras.utils.to_categorical(Y_test,num_classes=3)\n",
    "\n",
    "y_test.shape\n",
    "y_train.shape\n",
    "\n",
    "# Initialisation du modèle \n",
    "model = Sequential()\n",
    "\n",
    "model.add(Dense(200, activation='relu', input_dim=367))\n",
    "#model.add(Dropout(0.8))\n",
    "model.add(Dense(100, activation='relu'))\n",
    "#model.add(Dropout(0.5))\n",
    "model.add(Dense(30, activation='relu'))\n",
    "model.add(Dense(3, activation='softmax'))\n",
    "\n",
    "sgd = SGD(lr=0.01, decay=1.6, momentum=0.9, nesterov=True)\n",
    "\n",
    "model.compile(loss='binary_crossentropy',\n",
    "              optimizer=sgd,\n",
    "              metrics=['accuracy'])\n",
    "\n",
    "model.fit(x_train, y_train, epochs=5,batch_size=500)\n",
    "\n",
    "\n",
    "score = model.evaluate(x_test, y_test, batch_size=500)\n",
    "\n",
    "print('Test loss:', score[0])\n",
    "print('Test accuracy:', score[1])\n",
    "\n",
    "y_chap = model.predict_classes(x_test, verbose=0)\n",
    "y_chap.shape\n",
    "\n",
    "train_acc = npA.sum( Y_test == y_chap, axis=0) / x_test.shape[0]\n",
    "print('Training accuracy: %.2f%%' % (train_acc * 100))\n",
    "\n",
    "# matrice de confusion\n",
    "table = pd.crosstab(Y_test,y_chap)\n",
    "\n",
    "print (\" table de contingence : \",(table))\n",
    "print (\" précision = \", accuracy_score(Y_test,y_chap))\n",
    "plt.matshow(table)\n",
    "plt.title(\"Matrice de Confusion\")\n",
    "plt.colorbar()\n",
    "plt.show()\n"
   ]
>>>>>>> e0a52adcf5eafc96ff4adb03d0cae49bf61f4188:scripts/notebooks/.ipynb_checkpoints/Python-checkpoint.ipynb
  },
  {
   "cell_type": "markdown",
   "metadata": {
    "deletable": true,
    "editable": true
   },
   "source": [
    "#### 1.3.3 Forêts aléatoires\n",
    "\n",
    "C'est un l'algorithme d'agrégation de modèles le plus utilisé.\n",
    "\n",
    "Plus que le nombre d'arbres **n_estimators**, le paramètre à optimiser est le nombre de variables tirées aléatoirement pour la recherche de la division optimale d'un noeud: **max_features**. Par défaut, il prend la valeur $\\frac{p}{3}$ en régression et $\\sqrt{p}$ en discrimination."
   ]
  },
  {
   "cell_type": "code",
   "execution_count": 9,
   "metadata": {
    "collapsed": false,
    "deletable": true,
    "editable": true
   },
   "outputs": [
    {
     "name": "stdout",
     "output_type": "stream",
     "text": [
      "erreur out-of-bag =  0.0212188502344\n"
     ]
    }
   ],
   "source": [
    "from sklearn.ensemble import RandomForestClassifier \n",
    "from sklearn.metrics import roc_auc_score\n",
    "\n",
    "# définition des paramètres\n",
    "forest = RandomForestClassifier(\n",
    "    n_estimators = 1000, \n",
    "    criterion = 'gini', \n",
    "    max_depth = None,\n",
    "    min_samples_split = 100, \n",
    "    min_samples_leaf = 10, \n",
    "    max_features = 'auto', \n",
    "    max_leaf_nodes = None,\n",
    "    bootstrap = True, \n",
    "    oob_score = True, \n",
    "    n_jobs = -1)\n",
    "\n",
    "# apprentissage et erreur out-of-bag\n",
    "forest = forest.fit(X_train,y_train)\n",
    "print ('erreur out-of-bag = ', 1 - forest.oob_score_)\n",
    "\n",
    "# Erreur de prévision sur l'échantillon test \n",
    "print ('erreur de prédiction = ', 1-forest.score(X_test,y_test))\n"
   ]
  },
  {
   "cell_type": "code",
   "execution_count": 10,
   "metadata": {
    "collapsed": false,
    "deletable": true,
    "editable": true
   },
   "outputs": [
    {
     "name": "stdout",
     "output_type": "stream",
     "text": [
      "erreur de prédiction =  0.0316637881405\n"
     ]
    }
   ],
   "source": []
  },
  {
   "cell_type": "markdown",
   "metadata": {
    "deletable": true,
    "editable": true
   },
   "source": [
    "L’optimisation :  il est aussi possible de minimiser l’erreur par validation croisée.\n"
   ]
  },
  {
   "cell_type": "code",
   "execution_count": null,
   "metadata": {
    "collapsed": true,
    "deletable": true,
    "editable": true
   },
   "outputs": [],
   "source": [
    "\n",
    "from sklearn.model_selection import GridSearchCV\n",
    "\n",
    "param =[{\"max_features\":list(range(4,100,4))}]\n",
    "\n",
    "digit_rf = GridSearchCV(\n",
    "    RandomForestClassifier(n_estimators = 1000),\n",
    "    param,cv = 5,n_jobs=-1)\n",
    "\n",
    "digit_rf = digit_rf.fit(X_train, y_train)\n",
<<<<<<< HEAD:scripts/notebooks/.ipynb_checkpoints/Untitled-checkpoint.ipynb
    "digit_rf"
   ]
  },
  {
   "cell_type": "code",
   "execution_count": null,
   "metadata": {
    "collapsed": true,
    "deletable": true,
    "editable": true
   },
   "outputs": [],
   "source": [
    "# paramètre optimal \n",
    "digit_rf.best_params"
   ]
  },
  {
   "cell_type": "code",
   "execution_count": 40,
   "metadata": {
    "collapsed": true,
    "deletable": true,
    "editable": true
   },
   "outputs": [
    {
     "name": "stdout",
     "output_type": "stream",
     "text": [
      " table de contingence :  col_0     1\n",
      "row_0      \n",
      "1      2812\n",
      "2        83\n",
      " précision =  0.971329879102\n"
     ]
    },
    {
     "data": {
      "image/png": "iVBORw0KGgoAAAANSUhEUgAAARAAAAHTCAYAAADvdkcPAAAABHNCSVQICAgIfAhkiAAAAAlwSFlz\nAAALEgAACxIB0t1+/AAAGvFJREFUeJzt3X+wbWV93/H3R+KPGFHAawjiVYheM8FW0TKoSdto/QH+\niOg0Y1ET0TJDWrVjqmlLNFONxo5t/FVbY4qViNZgidHK6I2IRMckIwokFkVjuBooF/kRuAYxJCbc\n++0f6zm6OZwfe+/77Hv2vev9mtlz9l5rnbWefe493/N5nrXWs1NVSNI87rHVDZB08LKASJqbBUTS\n3CwgkuZmAZE0NwuIpLlZQCTNzQIiaW4WEElz+6GtboB0KDjlyT9St+7Zu5B9X3Hl9y6qqlMXsvP9\nZAGROrh1z16+eNFDF7Lvw465ettCdtyBBUTqoIB97NvqZhxwjoFImpsJROqi2FsmEEmamglE6mAY\nAxnf3DoWEKkTB1ElaQYmEKmDotg7wulBTSCS5mYBmVKSFyX51AE4TiV5xKKPM6skz0tyXZLvJnns\nfuznqiRP6ti0pbGPWshjmR3UBSTJNUn+Lsm2Vcv/tP0iHjfFPo5r227YnauqD1bV0/evxYuV5Jgk\n701yQ5Lbk/xZkl9L8iMddv8W4BVVdb+q+tN5d1JVj6qqz3Zoj5bAQV1Amr8AXrDyIsk/BO7b8wCb\nFZdlkOQo4PPADwNPrKrDgacBRwAP73CIhwFXddjPIamAvdRCHsvsUCggHwBePPH6DOD9kxskeVZL\nJd9pMfz1E6s/177+VYvnT0zykiR/nOTtSW4FXt+W/dHEPh+V5OIke5LclOQ1bfk9kpyd5BtJbk1y\nQfvlXlOSf9cSw7eS/MtV6+6d5C1J/l87xm8l+eF1dvUq4Hbg56vqGoCquq6qXllVV7b9/VSSy5Lc\n1r7+1MSxPpvkje19357kU0m2tTZ8FzgM+L9JvtG2v0tXK8n7kvx6e74tyceT/FX7+fxhknu0ddck\neerE+3tHe+/fas/v3dY9KcnuJK9OcnP7Gb10vZ/jMrALc3C6FLh/kp9MchhwOvC/Vm3z1wxF5gjg\nWcC/TvLctu6ftq9HtHj++fb68cA3gaOBN03uLMnhwKeBTwIPBh4BXNJW/xvgucDPtHXfBt61VsOT\nnAr8MkNS2AE8ddUmbwYeCZzYjnEs8B/X+Tk8FfhI1drXU7ci9gngncADgbcBn0jywInNXgi8FPhR\n4F7AL1fV96rqfm39Y6pqmjTzamA38CCGn99rYM3fhNcCT2jv7zHAycCvTqz/MeABDO/7TOBdSY6c\n4vg6QA6FAgI/SCFPA74GXD+5sqo+W1Vfrqp97a/x+Qy/4Bv5VlX9t6q6s6r+ZtW6ZwM3VtVbq+pv\nq+r2qvpCW/evgNdW1e6q+h7weuDn1ukGPR/47ar6SlX9ddsWgCQBzgL+bVXtqarbgf/EUCDX8kDg\nhg3ez7OAq6vqA+09nQ/8GfCzE9v8dlX9eXu/FzD8Ys/j74FjgIdV1d9X1R/W2h+B+CLgDVV1c1X9\nJfBrwC+s2s8b2j52At8FfmLONi1UAXurFvJYZkvft5/SBxi6IsezqvsCkOTxDH/N/wHDX9Z7A7+7\nyT6v22DdduAb66x7GPDRJJNJYC/DX+LrV237YOCKidfXTjx/EMNYzhVDLQEgDF2JtdzK8Eu7ngev\n2v/K8Y6deH3jxPM7gPsxn99gKIafam0/p6rePEWbrm3LVtxaVXd2apMW4JBIIFV1LcNg6jOBj6yx\nye8AFwLbq+oBwG8x/DLC2tF6o+UwFJcf32DdM6rqiInHfapqdfGAITFsn3g9OSPNLcDfAI+a2M8D\nJroTq30aeN7KWMMavsVQ3CY9lLsXtWndwV0Hq39s5UlLZK+uqh8HngO8KslTpmjTQ9uyg9K+BT2W\n2SFRQJozgX/WugKrHQ7sqaq/TXIyQ19/xV8y/DutVxDW8nHgmCS/1AYCD28pB4bi9KYkDwNI8qAk\np62znwuAlyQ5Icl9gdetrGhjGe8B3p7kR9u+jk1yyjr7ehtwf+C8iWMfm+RtSR4N7AQemeSFSX4o\nyb8ATmjvZR5fAl6Y5LA2lvP9LmGSZyd5ROuG3caQwNb6XTgf+NX2M9rGML6zevxKS+yQKSBV9Y2q\nunyd1S8D3pDkdob/pBdMfN8dDIOkf9zOGjxhimPdzjDe8rMMsf9q4Mlt9X9lSDufase7lGFAdq39\n/D7wDuAPgF3t66T/0JZfmuQ7DCljzTGAqtoD/BTDuMEX2rEvYfgF3lVVtzKM3byaobvz74FnV9Ut\nm73fdbyS4f3/FcNYxv+ZWLejtfW7DKeWf7OqPrPGPn4duBy4Evgy8Cdt2UGnFnQKd9lP42btsS1J\ns3j0o+9ZF+5czNSlx2+/8YqqOmkhO99Ph0wCkXTgHSpnYaQtNUwoND4mEElzM4FIXYS9378yYDxM\nIJLmZgKROihg3whPaC5NAklyVLu79er2dd2bppLcv92p+d+3sj1JTkzy+QyT5FzZLs7q3Y5Tk3w9\nya4kZ6+x/t5J/ndb/4VMMQfKAtvyqiRfbT+LS1YuaNuq9kxs98/b3cMLPRW6t3Vjej+W2dIUEOBs\n4JKq2sFwAdS6/yGAN/KD2/C3sj13AC+uqkcBpwLvSHJErwa0u4vfBTyD4arRFyQ5YdVmZwLfrqpH\nAG8H/nOv48/Rlj8FTqqqRwMfBv7LItoyQ3tW7px+JfCF1eu0/5apgJwGnNeen8dwS/zdJPlHDDem\nLXp6wU3b0+5cvbo9/xZwM8NNcL2czHAV6Ter6u+AD7V2rdfODwNPycTddweyLVX1mXZlLwxX4D5k\nAe2Yuj3NGxmK6t8usC1tQiETyFY6uqpWbke/kaFI3EW7UeytDHNobHl7JrV7bO7F+nfpzuNY7npX\n8G7uevfsXbZpd67exnBrf2/TtGXSmcDvL6AdU7cnyeMYbqD8xALbMWoHdBA1yaeZuGtzwmsnX1RV\nJVlrSOplwM6q2t3jj2yH9qzs5xiGKQXOWG9CnzFJ8vPASWw+58oi23APhhsMX3KgjrmvljstLMIB\nLSBVtXrGre/LMGXfMVV1Q/uFvHmNzZ4I/JMkL2OYF+JeSb5bVRuNlyyyPSS5P8NMX6+tqkvnaccG\nrueut/s/hLvffr+yze42adEDGG6W622atpBhusLXAj/TJlRalM3aczjD/C+fbX9sfgy4MMlzNrjp\nUjNapi7MhQzzmdK+fmz1BlX1oqp6aFUdx9CNef+8xaNHe5LcC/hoa8eHF9CGy4AdSY5vxzq9tWu9\ndv4c8AfrzP618LZk+LiH/wE8p6rWLLgHqj1VdVtVbauq49r/l0tbuxZSPBwD2XpvBp6W5GqG+T3f\nDJDkpCT/c0nb83yGOVVfkuRL7THvNIB308Y0XgFcxDBV4wVVdVWSNyR5TtvsvcADk+ximFh5IQV1\nyrb8BkMy/N32s1hd7A50ew6YIuzlHgt5LDNv55c6+MlH37ve//GNZpSc38kPu3Zpb+f3SlSpkzEO\noi53PpK01EwgUgcrg6hjYwKRNDcTiNRF2Fvj+3u8tO84yVlb3YZJtmdjy9SerWjLMKXhPRbyWGbL\n3Lql+Q/Z2J6NLVN7lqkthzS7MFInYxxEXUgB2XbUYXXc9nvu1z4eeuwPcdJj7rM0V7nZno0tU3t6\nteWa6/6eW/bsHV9VmMFCCshx2+/JFy/avvmG0hI7+ZSNPl/9rqrGOYhqF0bqZN8IuzDjK5nSISTJ\n9iSfaXPRXpXklW3565NcP3GT5zMnvudX2jyyX8/Eh7VPO8fsJBOI1MFwJeqW/D2+E3h1Vf1Jm//1\niiQXt3Vvr6q3TG7c5o09HXgU8GDg00ke2Va/i+FD43cDlyW5sKq+utHBLSDSQaxNu3lDe357kq+x\n8VSTpwEfapM9/UWbBuLktm5XVX0TIMnKHLMbFhC7MFIXwyDqIh7AtiSXTzzWvM6lfaTHY/nBDPSv\naB+xcW5+8LEk680lO+uct4AFRDoY3FJVJ008zlm9QZL7Ab8H/FJVfQd4N/Bw4ESGhPLWRTTMLozU\nwcql7FshyT0ZiscHq+ojAFV108T69wAfby83mkt20zlvVzOBSJ3srSzksZH2GUDvBb5WVW+bWD45\nPdrzgK+05xcCp2f4RMPjgR3AF5lu/t27MYFIB7efBn4B+HKSL7Vlr2H4pL4TGcLRNcAvArR5Yy9g\nGBy9E3h5Ve0FSLIyx+xhwLlVddVmB7eASB2sTKp8wI9b9Uew5hVsOzf4njcBb1pj+c6Nvm8tdmEk\nzc0EInWyb4T3wozvHUvqxgQidbCFl7JvKQuI1EGx+SnXQ9H4SqakbkwgUifLPgHyIozvHUvqxgQi\ndVDFKKc0HN87ltSNCUTqIqOcE9UCInVQ2IWRpJmYQKROxngl6vjesaRuTCBSB0XY56XskjQ9E4jU\nyRjHQCwgUgeFEwpJ0kxMIFIXYe8Ir0Q1gUiamwlE6sAxEEmakQlE6mSMYyAWEKmDqtiFkaRZmECk\nTpwPRJJmYAKROigY5ZSGJhBJczOBSF1klGMgFhCpg+FKVLswkjQ1E4jUyRgnFBrfO5bUjQlE6sBJ\nlSVpRiYQqZN9I/x7bAGROqiCvXZhJGl6JhCpEwdRJWkGJhCpg+E07vj+Ho/vHUvqxgQideKkypLm\n4t24kjQjE4jUhYOokjQTE4jUiZMqS9IMTCBSB2O9mc4CInXiIKokzcAEInXglIaSNCMTiNTJGE/j\nWkCkDrwXRpJmZAKROvE0riTNwAQi9VCexpWkmZhApA4KT+NK2g92YSRpBiYQqQMvJJOkGZlApE5M\nIJI0AxOI1MFY5wOxgEidjPE6ELsw0kEsyfYkn0ny1SRXJXllW35UkouTXN2+HtmWJ8k7k+xKcmWS\nx03s64y2/dVJzpjm+FMVkCSnJvl6O+jZ87xR6ZBWwyDqIh6buBN4dVWdADwBeHmSE4CzgUuqagdw\nSXsN8AxgR3ucBbwbhoIDvA54PHAy8LqVorORTQtIksOAd7UDnwC8oDVQ0harqhuq6k/a89uBrwHH\nAqcB57XNzgOe256fBry/BpcCRyQ5BjgFuLiq9lTVt4GLgVM3O/40YyAnA7uq6psAST7UGvHVKd+j\ndMhb8IVk25JcPvH6nKo6Z/VGSY4DHgt8ATi6qm5oq24Ejm7PjwWum/i23W3Zess3NE0BWWvHj1+j\n8WcxRCIeeqxjs1JHt1TVSRttkOR+wO8Bv1RV30l+UMyqqpLUIhrWbRC1qs6pqpOq6qQHPfCwXruV\nDhpbNAZCknsyFI8PVtVH2uKbWteE9vXmtvx6YPvEtz+kLVtv+YamKSBz7Vgak5XrQA50AckQNd4L\nfK2q3jax6kJg5UzKGcDHJpa/uJ2NeQJwW+vqXAQ8PcmRbfD06W3Zhqbpa1wG7EhyPEPhOB144RTf\nJ2nxfhr4BeDLSb7Ulr0GeDNwQZIzgWuB57d1O4FnAruAO4CXAlTVniRvZPh9B3hDVe3Z7OCbFpCq\nujPJKxiq0WHAuVV11ZRvThqN2oIrUavqj2DdK9iessb2Bbx8nX2dC5w7y/GnGu2sqp0MlUuSvs/T\nJVInXsouSTMwgUgdVI1zPhALiNTJVgyibjW7MJLmZgKRuhjnhEImEElzM4FInTgGIkkzMIFIHYz1\ng6UsIFIPNVwLMjZ2YSTNzQQideK9MJI0AxOI1EHhaVxJmokJROpinJeyW0CkTjyNK0kzMIFInTiI\nKkkzMIFIHVSZQCRpJiYQqRNP40qam6dxJWkGJhCpEwdRJWkGJhCpgyImEEmahQlE6mSEJ2EsIFIX\nXokqSbMxgUi9jLAPYwKRNDcTiNSJYyCSNAMTiNTJGG+ms4BIHfi5MJI0IxOI1EMBJhBJmp4JROrE\nQVRJ8xthAbELI2luJhCpCycUkqSZmECkXhwDkaTpmUCkHkY6I5kFROrFLowkTc8EInUzvi6MCUTS\n3EwgUi+OgUjS9EwgUi8jTCAWEKkHJxSSpNmYQKROxjihkAlE0txMIFIvJhBJmp4JROplhGdhLCBS\nJ7ELI0nTM4FIPRQOokrSLEwgUhcZ5SCqCUTS3EwgUi+OgUiaWy3osYkk5ya5OclXJpa9Psn1Sb7U\nHs+cWPcrSXYl+XqSUyaWn9qW7Upy9jRv2QIiHfzeB5y6xvK3V9WJ7bETIMkJwOnAo9r3/GaSw5Ic\nBrwLeAZwAvCCtu2G7MJIvWxRF6aqPpfkuCk3Pw34UFV9D/iLJLuAk9u6XVX1TYAkH2rbfnWjnZlA\npEPXK5Jc2bo4R7ZlxwLXTWyzuy1bb/mGLCBSDyszki3iAduSXD7xOGuKFr0beDhwInAD8NZFvG27\nMNLyu6WqTprlG6rqppXnSd4DfLy9vB7YPrHpQ9oyNli+LhOI1ElqMY+52pIcM/HyecDKGZoLgdOT\n3DvJ8cAO4IvAZcCOJMcnuRfDQOuFmx3HBCL1skWDqEnOB57E0NXZDbwOeFKSE1urrgF+EaCqrkpy\nAcPg6J3Ay6tqb9vPK4CLgMOAc6vqqs2ObQGRDnJV9YI1Fr93g+3fBLxpjeU7gZ2zHNsujKS5WUAk\nzc0ujNTJGGckW0gB+fMr78spDz5xEbuWDpg/r1u3uglLzwQi9TLC+UAsIFIPTmkoSbMxgUi9mEAk\naXomEKmTMZ7GNYFImpsJROplhAnEAiL1MsICYhdG0txMIFIH+zP5z8HMBCJpbiYQqZcR3gtjApE0\nNxOI1MsIx0AsIFInDqJK0gxMIFIvJhBJmp4JROrBC8kkaTYmEKmXESYQC4jUywgLiF0YSXMzgUid\nOIgqSTOwgEiam10YqRe7MJI0PROI1INXokrSbEwgUi8mEEmanglE6mWECcQCInUQHESVpJmYQKRe\nTCCSND0TiNSDF5JJ0mxMIFIvI0wgFhCplxEWELswkuZmApE6cRBVkmZgApF6MYFI0vRMIFIPxSgT\niAVE6sRBVEmagQlE6sUEIknTM4FInTgGIkkzMIFIvYwwgVhApB5Geh2IXRhJczOBSB2kPcbGBCJp\nbiYQqRfHQCRpeiYQqZMxXkhmAZF6GWEBsQsjaW4mEKkXE4gkTc8EIvXgZ+NK0mxMIFIvJhBJ80ot\n5rHpcZNzk9yc5CsTy45KcnGSq9vXI9vyJHlnkl1JrkzyuInvOaNtf3WSM6Z5zxYQ6eD3PuDUVcvO\nBi6pqh3AJe01wDOAHe1xFvBuGAoO8Drg8cDJwOtWis5GLCBSL7Wgx2aHrfocsGfV4tOA89rz84Dn\nTix/fw0uBY5IcgxwCnBxVe2pqm8DF3P3onQ3joFIy29bkssnXp9TVeds8j1HV9UN7fmNwNHt+bHA\ndRPb7W7L1lu+IQuI1MkCT+PeUlUnzfvNVVXJYlpnF0Y6NN3Uuia0rze35dcD2ye2e0hbtt7yDVlA\npB4WNf4xf264EFg5k3IG8LGJ5S9uZ2OeANzWujoXAU9PcmQbPH16W7YhuzBSL1t0HUiS84EnMYyV\n7GY4m/Jm4IIkZwLXAs9vm+8EngnsAu4AXgpQVXuSvBG4rG33hqpaPTB7NxYQ6SBXVS9YZ9VT1ti2\ngJevs59zgXNnObYFROogeC+MJM3EBCL1YgKRpOmZQKROUuOLIBYQqQc/G1eSZrNpAVlrrgFJd7dV\n84FspWkSyPuY4rZeSeOz6RhIVX0uyXGLb4p0kFvytLAI3QZRk5zFMMMR9+G+vXYraYl1KyBtgpNz\nAO6fo0ZYizV2yz5esQiexpV6GWEB8TSupLlNcxr3fODzwE8k2d3mF5A0aUGncJe9WzTNWZj15hqQ\nNHKOgUi9LHlaWATHQCTNzQQidTDWGcksIFIvI7yd3y6MpLmZQKROxtiFMYFImpsJROphpDOSWUCk\nTrJvq1tw4NmFkTQ3E4jUywi7MCYQSXMzgUideBpXkmZgApF6KEZ5KbsFROrELowkzcAEIvViApGk\n6ZlApA7GOqGQCUTS3EwgUg9VnsaVND+7MJI0AxOI1IsJRJKmZwKROnEMRJJmYAKReihg3/giiAVE\n6mV89cMujKT5mUCkThxElaQZmECkXkZ4L4wJRNLcTCBSJ2McA7GASD2M9MO17cJImpsJROpgmNJw\nfBHEBCJpbiYQqZd9W92AA88EImluJhCpkzGOgVhApB48jStJszGBSF2M83NhTCCS5mYCkToZ470w\nJhBJczOBSL2McAzEAiL1UBCvRJWk6ZlApF5G2IUxgUiamwlE6mV8AcQEIml+JhCpkzHejWsCkXqp\nWsxjE0muSfLlJF9KcnlbdlSSi5Nc3b4e2ZYnyTuT7EpyZZLH7c9btoBIh4YnV9WJVXVSe302cElV\n7QAuaa8BngHsaI+zgHfvz0EtIFIPxTCl4SIe8zkNOK89Pw947sTy99fgUuCIJMfMexALiLT8tiW5\nfOJx1qr1BXwqyRUT646uqhva8xuBo9vzY4HrJr53d1s2FwdRpQ5CLXIQ9ZaJrsla/nFVXZ/kR4GL\nk/zZ5MqqqmQx9wqbQKSDXFVd377eDHwUOBm4aaVr0r7e3Da/Htg+8e0PacvmYgGRetmCszBJfiTJ\n4SvPgacDXwEuBM5om50BfKw9vxB4cTsb8wTgtomuzszswki9bM11IEcDH00Cw+/z71TVJ5NcBlyQ\n5EzgWuD5bfudwDOBXcAdwEv35+AWEOkgVlXfBB6zxvJbgaessbyAl/c6vgVE6mHlNO7IOAYiaW4m\nEKkT74WRpBmYQKReRphALCBSF34ynSTNxAQi9VCYQCRpFiYQqZcRXkhmAZE68ToQSZqBCUTqxQQi\nSdMzgUg9FLDPBCJJUzOBSF2M81J2C4jUiwWkj9v59i2frg9fu5+72Qbc0qM9ndiejS1Te3q15WEd\n9nFIW0gBqaoH7e8+kly+yWdhHFC2Z2PL1J4ta8sIE4iDqJLm5hiI1IOncZfOOVvdgFVsz8aWqT3L\n1JZD2tImkKpaqv8Etmdjy9SerWlLQY3vdtylLSDSQcdBVEmanglE6sFBVEmajQlE6sUxEEmanglE\n6mWECcQCInUxztv57cJImpsJROqhgH3juxLVBCJpbiYQqRfHQCRpeiYQqZcRJhALiNRFeS+MJM3C\nBCL1UFAjnFDIBCJpbiYQqRfHQCRpeiYQqRdP40qaS5X3wkjSLEwgUi8j7MKYQCTNzQQidVKOgUjS\n9EwgUhfjnBPVAiL14CfTSdJsTCBSL96NK0nTM4FIHRRQjoFI0vRMIFIPVaMcA7GASJ3YhZGkGZhA\npF5G2IVJjfDyW6m3JJ8Eti1o97dU1akL2vd+sYBImptjIJLmZgGRNDcLiKS5WUAkzc0CImluFhBJ\nc7OASJqbBUTS3Cwgkub2/wHYN4zTl/vBGQAAAABJRU5ErkJggg==\n",
      "text/plain": [
       "<matplotlib.figure.Figure at 0x7f396cbef850>"
      ]
     },
     "metadata": {},
     "output_type": "display_data"
    }
   ],
   "source": [
=======
    "digit_rf\n",
    "\n",
    "# paramètre optimal \n",
    "digit_rf.best_params\n",
    "\n",
    "\n",
>>>>>>> e0a52adcf5eafc96ff4adb03d0cae49bf61f4188:scripts/notebooks/.ipynb_checkpoints/Python-checkpoint.ipynb
    "# Y prédit \n",
    "y_chap = forest.predict(X_test)\n",
    "\n",
    "# matrice de confusion\n",
    "table = pd.crosstab(y_test,y_chap)\n",
    "print \" table de contingence : \",(table)\n",
    "print \" précision = \", accuracy_score(y_test,y_chap)\n",
    "plt.matshow(table)\n",
    "plt.title(\"Matrice de Confusion\")\n",
    "plt.colorbar()\n",
    "plt.show()\n"
   ]
  },
  {
   "cell_type": "markdown",
   "metadata": {
    "deletable": true,
    "editable": true
   },
   "source": [
    "#### 1.3.3 Arbre de classification ( = décision )\n",
    "\n",
    "Les arbres binaires de décision (CART :classification and regression trees)\n",
    "s’appliquent à tous types de variables. Les options de l’algorithme sont décrites dans la documentation. La complexité du modèle est gérée par deux paramètres : \n",
    "***\n",
    "* **max_depth**, qui détermine le nombre max de feuilles dans l’arbre\n",
    "\n",
    "* **min_samples_split**, nombre minimales d’observations requises pour rechercher une dichotomie.\n",
    "***"
   ]
  },
  {
   "cell_type": "code",
   "execution_count": null,
   "metadata": {
    "collapsed": true,
    "deletable": true,
    "editable": true
   },
   "outputs": [],
   "source": [
    "# Nombre de feuilles par arbre\n",
    "param = [{\"max_depth\":list(range(2,10))}]\n",
    "\n",
    "tree = GridSearchCV(\n",
    "    DecisionTreeClassifier(),\n",
    "    param,cv=5,n_jobs=-1)\n",
    "\n",
    "tree_opt = tree.fit(X_train, y_train)\n",
    "\n",
    "# Paramètre optimal\n",
    "tree_opt.best_params_\n"
   ]
  },
  {
   "cell_type": "markdown",
   "metadata": {
    "deletable": true,
    "editable": true
   },
   "source": [
    "#### 1.3.4 K - plus proches voisins\n",
    "\n",
    "Les images des caractères sont codées par des variables quantitatives. Le\n",
    "problème de reconnaissance de forme ou de discrimination est adapté à l’al-\n",
    "gorithme des k-plus proches voisins. Le paramètre à optimiser pour contrôlerla complexité du modèle est le nombre de voisin *n_neighbors*."
   ]
  },
  {
   "cell_type": "code",
   "execution_count": 20,
   "metadata": {
    "collapsed": true,
    "deletable": true,
    "editable": true
   },
   "outputs": [
    {
     "name": "stdout",
     "output_type": "stream",
     "text": [
      "col_0     1   2\n",
      "event          \n",
      "1      5643   6\n",
      "2       125  16\n"
     ]
    },
    {
     "data": {
      "image/png": "iVBORw0KGgoAAAANSUhEUgAAAQQAAAD0CAYAAAB97VinAAAABHNCSVQICAgIfAhkiAAAAAlwSFlz\nAAALEgAACxIB0t1+/AAAFLFJREFUeJzt3X+wXGV9x/H3JwkEASFAMIYkkCjRFqyokwmgnRYBk4Bo\ncEYp4EikmWHaYkdbrAa1RSG0OLXgj1HbVKKBKphaLRlMDTHAqK38SMQGAZULgkkIpMkNGEBCcu+3\nfzzP7j253r17bu653N29n9fMmbvnOc+e5+wm+93n1z5HEYGZGcC40b4AM2sdDghmVueAYGZ1Dghm\nVueAYGZ1DghmVueAYGZ1DgglSXqvpNtegnJC0vEjXc5QSXqXpE2SnpX0xmGc5wFJp1V4aVahtg4I\nkh6T9KKkyf3S78sfrJklzjEz550wWL6I+HpEzBveFY8sSVMlXS9pq6Rdkn4u6VOSDqng9J8BPhAR\nh0bEfft7kog4MSLurOB6bAQM+iFoE78CLgC+ACDpD4CDqyxA0oSI2FvlOasm6Ujgx8D/AKdGxGOS\nZgAfBl4NbBxmEccBDwzzHB1r/lsPiR3dPaXybti4e01ELBjhS9o/EdG2G/AY8Ang3kLaZ4CPAwHM\nzGlvB+4DfgNsAj5ZyP/rnPfZvJ0KvB/4b+A6YAewNKf9qPC8E4G1QDfwFPCxnD4OWAI8kp+7Ejhy\nkNfwN8BW4AngT/O1HJ+PTcyv59e5jH8GXtbgPEuB+4Fxg5T1ZuBe4Jn8982FY3cCV+XXvQu4DZic\nr+HZfF3PAY/k/PXrzPtfA5bmx5OBW4Gn8/vzw9p15X+zMwuv77P5tT+RH0/Mx04DNgOXAdvye3Tx\naP+fa7S96fUTY8/WV5fagPWjfb2NtrZuMmR3AYdJ+n1J44HzgX/rl+c54CJgEik4/Lmkc/OxP8p/\nJ0WqDv84758MPApMAa4unkzSy4HvA98DjgGOB9blw38JnAv8cT62E/jiQBcuaQHpG/xtwGzgzH5Z\nrgFeA7whlzEN+LsG78OZwLcjordBWUcC3wU+DxwFXAt8V9JRhWwXAhcDrwAOBD4cEbsj4tB8/KSI\neHWD8osuI32Yjya9fx8jBZD+Pg6ckl/fScBcUoCveSVwOOl1Lwa+KOmIEuWPgqAnekttrawTAgLA\njaQP/NuAh4AtxYMRcWdE3B8RvRGxEbiJ9IEdzBMR8YWI2BsRv+137BzgyYj4p4h4ISJ2RcTd+dif\nAR+PiM0RsRv4JPDuBn0U5wFfjYifRcRzOS8AkgRcAvxVRHRHxC7g70kBbyBHkb5FG3k78HBE3Jhf\n003Az4F3FPJ8NSJ+mV/vStIHdX/sAaYCx0XEnoj4YeSv/X7eC1wZEdsi4v+ATwHv63eeK/M5VpNq\nKq/dz2saUQH0EqW2VtYJfQiQAsIPgFnADf0PSjqZ9G37OtI330Tg35ucc9Mgx2aQmgQDOQ74jqTi\nV0EP6ZtyS7+8xwAbCvuPFx4fTeoL2ZBiAwACxjcodwfpQ9jIMf3OXytvWmH/ycLj54FD2T//SApu\nt+VrXxYR15S4psdzWs2O2LfvZjjXNOJ6ae1v/zI6ooYQEY+TOhfPBr49QJZvAKuAGRFxOKktXvuU\nNQrZg4XyTcCrBjl2VkRMKmwHRUT/YADpG31GYf/YwuPtwG+BEwvnObxQfe/v+8C7JDX6N32CFKyK\njuV3g1RZz7Nv5+0raw9yjemyiHgV8E7gryWdUeKajs1pbScIeqLc1so6IiBki4HTc9W7v5cD3RHx\ngqS5pLZyTa1a/IikJSXLuhWYKulDkiZKenmuhUAKNldLOg5A0tGSFjY4z0rg/ZJOkHQwcEXtQO4L\n+FfgOkmvyOeaJml+g3NdCxwGrCiUPU3StZJeD6wGXiPpQkkTJP0JcEJ+Lfvjp8CFksbnvpB6E0zS\nOZKOz82evyU1Z74ywDluAj6R36PJpP6R/v0/baMTmgwdExAi4pGIWN/g8F8AV0raRfpPtxIgd0Je\nSxqyPJj0QW7URi+WtYvUX/EOUjX7YeCt+fDnSLWR23J5d5E6KAc6z3+RetZvB7ry36KP5vS7JP2G\nVAsYsA0dEd2kUYQ9wN257HWkEYWuiNhB6vu4jNS8+AhwTkRsb/Z6G/gg6fU/TeoL+M/Csdn5Wp8l\nvS//QurY7W8psJ40JHo/8JOc1nYC6CFKba1MA/f1jA2STiUNQc7P+5cDRMQ/jOqFdZg8QezWiHjd\nKF/KiDnppANjzerJzTMCU6dv3RARc0b4kvZLx9QQ9tM09u083My+nWxmpfWW3FpZp4wymI2qaIPm\nQBljPSBsYd9e/unsf6+7jWUBPe0fD8Z8k+FeYLakWZIOJE36WTXK12RtKE1Mav8mw5gOCHnSyweA\nNaQZjisjwj/gqZCkm0g/unqtpM2SFo/2NY0M0VNya2VjvclAnhK7erSvo1NFxAWjfQ0vhQB6O6DJ\nMOYDglkVAnixAyrcDghmFemN1m4OlOGAYFaBNFPRAcHMgED0dECTof1fQQUkXTLa19DpxsJ73Bsq\ntbUyB4Sk4/+ztoCOfo9rTQYPO5oZIHqi/b9fRyQgTD5yfMycccBInHpEHDttAnNOOqitRpF/ubHS\nhaVH3EEczGE6sq3e4xd4jhdjd6mv9AD2NFzMaugkPUZa7LYH2BsRc/K6mN8EZpIWqz0vInbmdSc+\nR1og6Hng/RHxk3yeRfStU7k0IlYMVu6IBISZMw7gnjUzmme0/Tb/mP1d7tDKujvWNc+URYxIDeGt\n/darWAKsi4hr8mI+S0hrZpxFWoNiNmntjS8DJ+cAcgUwhxSzNkhaFRE7GxXY/nUcsxbRi0ptw7AQ\nqH3DryCt7l1LvyGSu4BJkqYC84G1eZHenaTbBgx6PwgHBLMKpE7FcaW2IZzyNkkbCiM0UyKitrL2\nk6SFe6Hxuh5DXu/DnYpmlRhSk2GypOJyf8siYlm/PH8YEVvyepprJf28eDAiQlLlfTIOCGYVSD9/\nLh0QtjdbQq22SndEbJP0HdJNbJ6SNDUituYmwbacvdG6HltId8Aqpt85WLluMphVIBAvxvhSWzOS\nDsl3ByPfqHce8DPSWh2LcrZFwC358SrgIiWnAM/kpsUaYJ6kI/Idr+bltIZcQzCrSG91owxTSDf7\ngfQZ/UZEfE/SvcDKvKbE46Q7f0H6+f7ZpBW6nyfdjo+I6JZ0FWkhIEh3weoerGAHBLMK1DoVKzlX\nxKOke132T98B/M4Nb/Jt8i5tcK7lwPKyZTsgmFUgED0t/juFMhwQzCoyhE7FluWAYFaBCPxbBjOr\nGfYsxJbggGBWgQBejPb/OLX/KzBrAUHrL35ShgOCWUU6YQk1BwSzCqT7MjggmBlAGyyPVoYDglkF\nXEMws324hmBmQFpCbU9v+3+c2v8VmLWAtB6CawhmBngZdjOrS52KriGYWeaJSWYGeOqymfXj9RDM\nDEjrIezpdUAwM2pNBgcEM8s8U9HMAA87mtk+3GQwswJPXTYzoLbqsgOCmZFGGfb2Nr9vY6tzQDCr\niJsMZgZ4lMHM+vEog5kl4R83mVnWKSsmtX8dx6xF9OZaQrOtLEnjJd0n6da8P0vS3ZK6JH1T0oE5\nfWLe78rHZxbOcXlO/4Wk+c3KdEAwq0AAe3vHldqG4IPAQ4X9TwPXRcTxwE5gcU5fDOzM6dflfEg6\nATgfOBFYAHxJ0qBjo6WuTtKCHGG6JC0ZwgsyGxNqC6RUVUOQNB14O/CVvC/gdOBbOcsK4Nz8eGHe\nJx8/I+dfCNwcEbsj4ldAFzB3sHKbBoQcUb4InAWcAFyQI4+ZFfTmW8I324DJktYXtksGON1ngY8A\nvXn/KODpiNib9zcD0/LjacAmgHz8mZy/nj7AcwZUplNxLtAVEY8CSLqZFHkeLPFcs7EhhjQPYXtE\nzGl0UNI5wLaI2CDptCour6wyAWGgKHNy/0w5yl0CcOw0D17Y2FLxxKS3AO+UdDZwEHAY8DlgkqQJ\nuRYwHdiS828BZgCbJU0ADgd2FNJris8ZUGWdihGxLCLmRMSco49q/zndZkNVVR9CRFweEdMjYiap\nU/D2iHgvcAfw7pxtEXBLfrwq75OP3x4RkdPPz6MQs4DZwD2DlV3mq3zIUcZsrAlEz8ivqfhR4GZJ\nS4H7gOtz+vXAjZK6gG5SECEiHpC0ktS83wtcGhE9gxVQJiDcC8zOEWZLLuzC/XgxZh1tJCYmRcSd\nwJ358aMMMEoQES8A72nw/KuBq8uW1zQgRMReSR8A1gDjgeUR8UDZAszGghhap2LLKtX7FxGrgdUj\nfC1mbS3GSkAws2b84yYzK3ANwcwAL5BiZkVeZNXMagI3Gcyszp2KZlYQMdpXMHwOCGYVcZPBzIBU\nO3BAMLM69yGYWV1vrwOCmZF+/uwmg5nVdcAggwOCWSXcqWhm++iAKoIDgllFXEMwszrPVDQzIE9M\nGvlFVkecA4JZRVxDMLM+DghmlnhikpkVuYZgZoAnJplZP64hmFmdawhmVucagpkBedll1xDMLOuE\niUntP9fSrFVEya0JSQdJukfS/0p6QNKncvosSXdL6pL0TUkH5vSJeb8rH59ZONflOf0XkuY3K9sB\nwawqoXJbc7uB0yPiJOANwAJJpwCfBq6LiOOBncDinH8xsDOnX5fzIekE4HzgRGAB8CVJ4wcr2AHB\nrAoB6i23NT1V8mzePSBvAZwOfCunrwDOzY8X5n3y8TMkKaffHBG7I+JXQBcwd7CyHRDMKlGydlCy\n41HSeEk/BbYBa4FHgKcjYm/OshmYlh9PAzYB5OPPAEcV0wd4zoDcqWhWlfKdipMlrS/sL4uIZfuc\nKqIHeIOkScB3gN+r5BqbcEAwq0r5gLA9IuaUOmXE05LuAE4FJkmakGsB04EtOdsWYAawWdIE4HBg\nRyG9pvicAbnJYFaV6kYZjs41AyS9DHgb8BBwB/DunG0RcEt+vCrvk4/fHhGR08/PoxCzgNnAPYOV\n7RqCWRWqnZg0FViRRwTGASsj4lZJDwI3S1oK3Adcn/NfD9woqQvoJo0sEBEPSFoJPAjsBS7NTZGG\nHBDMKqKKJiZFxEbgjQOkP8oAowQR8QLwngbnuhq4umzZDghmVemAmYojEhB+ef8hLJh18kic2up2\nj/YFWD9V1RBGk2sIZlXxj5vMDCg9gtDqHBDMquKAYGY17kMwsz4OCGYGqXZQ5peMrc4BwawqHmUw\nszo3Gcysxp2KZtbHAcHMgLSEmgOCmdU5IJhZTScMO3rFJDOrcw3BrCpuMpgZ4E5FM+vHAcHM6hwQ\nzAxAuMlgZjX+taOZ7cM1BDOrc0Awsxr3IZhZHwcEMwO8DLuZ7cujDGZW5z4EM+vjgGBmQMf0IXg9\nBLMKaAhb03NJMyTdIelBSQ9I+mBOP1LSWkkP579H5HRJ+rykLkkbJb2pcK5FOf/DkhY1K9sBwawq\nUXJrbi9wWUScAJwCXCrpBGAJsC4iZgPr8j7AWcDsvF0CfBlSAAGuAE4G5gJX1IJIIw4IZhVRlNua\niYitEfGT/HgX8BAwDVgIrMjZVgDn5scLgRsiuQuYJGkqMB9YGxHdEbETWAssGKxs9yGYVaX8sONk\nSesL+8siYtlAGSXNBN4I3A1MiYit+dCTwJT8eBqwqfC0zTmtUXpDDghmVRjaiknbI2JOs0ySDgX+\nA/hQRPxG6uuBiIiQqh/odJPBrCrV9SEg6QBSMPh6RHw7Jz+VmwLkv9ty+hZgRuHp03Nao/SGHBDM\nKlJVH4JSVeB64KGIuLZwaBVQGylYBNxSSL8ojzacAjyTmxZrgHmSjsidifNyWkNuMphVpboK/FuA\n9wH3S/ppTvsYcA2wUtJi4HHgvHxsNXA20AU8D1wMEBHdkq4C7s35royI7sEKdkAwq0hVLfqI+BGN\npyycMUD+AC5tcK7lwPKyZTsgmFWhQ2YqOiCYVUD4145mVtQBNYSmowySlkvaJulnL8UFmbUrRZTa\nWlmZYcev0WS6o9mYV3YOQmvHg+ZNhoj4QZ4+aWaD8AIpBZIuIf3SioM4uKrTmrUPB4Q++ccZywAO\nG3dUB7w1ZkPjGoKZJb6Vm5ntowNqCGWGHW8Cfgy8VtLmPI/azApqd3+u4sdNo6nMKMMFL8WFmLW9\nFp9jUIabDGYVafVv/zIcEMyq0AaTjspwQDCriEcZzKzOAcHMksCdimbWx52KZtbHAcHMoG9iUrtz\nQDCrQoT7EMysj0cZzKzOTQYzSwLobf+I4IBgVpX2jwcOCGZVcZPBzPp4lMHMalxDMDMgr4bkTkUz\nq/M8BDOrafXbtJVR5lZuZtZMxbdyG+ieqpKOlLRW0sP57xE5XZI+L6lL0kZJbyo8Z1HO/7CkRc3K\ndUAwq0T0/Z6h2VbO1/jde6ouAdZFxGxgXd4HOAuYnbdLgC9DCiDAFcDJwFzgiloQacQBwawiVS7D\nHhE/ALr7JS8EVuTHK4BzC+k3RHIXMEnSVGA+sDYiuiNiJ7CWJjdudh+CWVXKf/tPlrS+sL8s3wqx\nmSkRsTU/fhKYkh9PAzYV8m3OaY3SG3JAMKtCgHpKB4TtETFnWMVFhFT9zAc3GcyqUmGnYgNP5aYA\n+e+2nL4FmFHINz2nNUpvyAHBrCKKKLUNwyqgNlKwCLilkH5RHm04BXgmNy3WAPMkHZE7E+fltIbc\nZDCrSoXzEPI9VU8j9TdsJo0WXAOszPdXfRw4L2dfDZwNdAHPAxeny4luSVcB9+Z8V0ZE/47KfTgg\nmFUhqHSm4iD3VD1jgLwBXNrgPMuB5WXLdUAwq4AYdnOgJTggmFXFAcHMgNRkKD/s2LIcEMwq4iaD\nmfVxQDCzxDdqMbMa3/3ZzPbhFZPMrMadimaWBNDT/lUEBwSzSrhTsaFd0b197Qtff3wkzj1CJgPb\nR/siOlw7vsfHDSm3A8LAIuLokTjvSJG0frgLVtjgxsR77IBgZoDv/mxmRQHhTsVOUWaBSxuezn6P\nPcrQOUqueGvDMCbeY/chmFmdA4KZJZ6HYGY1AfS6D8HMalxDMLM6BwQzAyCC6OkZ7asYNgcEs6p4\npqKZ1bnJYGZACgYeZTCzOtcQzKwmXEMws8QzFc2sJgAPO5oZ5NsyeNjRzIDUXPACKWZW0wk1BEUH\ndISYjTZJ3yOtLF3G9ohYMJLXs78cEMysbtxoX4CZtQ4HBDOrc0AwszoHBDOrc0AwszoHBDOrc0Aw\nszoHBDOrc0Aws7r/B0LU07TaH8ciAAAAAElFTkSuQmCC\n",
      "text/plain": [
       "<matplotlib.figure.Figure at 0x7f396cbc41d0>"
      ]
     },
     "metadata": {},
     "output_type": "display_data"
    }
   ],
   "source": [
    "# Grille de valeurs de voisins\n",
    "param = [{\"n_neighbors\":list(range(1,15))}]\n",
    "\n",
    "knn = GridSearchCV(\n",
    "    KNeighborsClassifier(\n",
    "        weights = 'distance',algorithm='auto', n_jobs = -1 ),\n",
    "    param,cv=5,n_jobs=-1)\n",
    "\n",
    "digit_knn = knn.fit(X_train, y_train)\n",
    "\n",
    "# Paramètre optimal\n",
    "digit_knn.best_params_[\"n_neighbors\"]\n",
    "\n",
    "knn = KNeighborsClassifier(\n",
    "    n_neighbors = digit_knn.best_params_[\"n_neighbors\"])\n",
    "\n",
    "# Apprentissage du modèle\n",
    "digit_knn = knn.fit(X_train, y_train)\n",
    "\n",
    "# Estimation de l’erreur de prévision\n",
    "1-digit_knn.score(X_test,y_test)\n",
    "\n",
    "# Prediction \n",
    "y_chap = digit_knn.predict(X_test)\n",
    "\n",
    "# Matrice de confusion\n",
    "table = pd.crosstab(y_test,y_chap)\n",
    "print(table)\n",
    "matshow(table)\n",
    "title(\"Matrice de Confusion\")\n",
    "colorbar()\n",
    "show\n"
   ]
  },
  {
   "cell_type": "markdown",
   "metadata": {
    "deletable": true,
    "editable": true
   },
   "source": [
    "### 1.3 Table des résultats "
   ]
  },
  {
   "cell_type": "code",
   "execution_count": null,
   "metadata": {
    "collapsed": true,
    "deletable": true,
    "editable": true
   },
   "outputs": [],
   "source": []
  },
  {
   "cell_type": "markdown",
   "metadata": {
    "deletable": true,
    "editable": true
   },
   "source": [
    "# 2 -  R  ![](http://d3gnp09177mxuh.cloudfront.net/tech-page-images/r.png) \n",
    "\n",
    "\n",
    "Principalement la librairie caret ( A faire ) \n",
    "\n",
    "### 2.1 Importation des librairies nécessaires\n",
    "\n",
    "\n",
    "\n",
    "\n",
    "\n"
   ]
  },
  {
   "cell_type": "code",
   "execution_count": 41,
   "metadata": {
    "collapsed": true,
    "deletable": true,
    "editable": true
   },
   "outputs": [
    {
     "name": "stderr",
     "output_type": "stream",
     "text": [
      "Loading required package: gplots\n",
      "\n",
      "Attaching package: ‘gplots’\n",
      "\n",
      "The following object is masked from ‘package:stats’:\n",
      "\n",
      "    lowess\n",
      "\n",
      "\n",
      "Attaching package: ‘ROCR’\n",
      "\n",
      "The following object is masked from ‘package:neuralnet’:\n",
      "\n",
      "    prediction\n",
      "\n"
     ]
    }
   ],
   "source": [
    "dest_r <- \"/home/mcherifa/Mimic/scripts/R/toolbox/\"\n",
    "source(paste0(dest_r,\"packages.R\"))\n",
    "source(paste0(dest_r,\"fonctions.R\"))"
   ]
  },
  {
   "cell_type": "code",
   "execution_count": 68,
   "metadata": {
    "collapsed": true,
    "deletable": true,
    "editable": true
   },
   "outputs": [
    {
     "data": {
      "text/html": [
       "<table>\n",
       "<thead><tr><th scope=col>gender</th><th scope=col>event</th><th scope=col>ventilation</th><th scope=col>amine</th><th scope=col>admission_type_descr</th><th scope=col>age</th><th scope=col>bmi</th><th scope=col>sapsi_first</th><th scope=col>hr.t1</th><th scope=col>hr.t2</th><th scope=col>⋯</th><th scope=col>resp.t51</th><th scope=col>resp.t52</th><th scope=col>resp.t53</th><th scope=col>resp.t54</th><th scope=col>resp.t55</th><th scope=col>resp.t56</th><th scope=col>resp.t57</th><th scope=col>resp.t58</th><th scope=col>resp.t59</th><th scope=col>resp.t60</th></tr></thead>\n",
       "<tbody>\n",
       "\t<tr><td>1          </td><td>1          </td><td>1          </td><td>2          </td><td>2          </td><td>2.0345696  </td><td> 0.9418786 </td><td>-0.3944334 </td><td> 1.0730000 </td><td> 1.0353817 </td><td>⋯          </td><td> 2.1639474 </td><td> 2.1551219 </td><td> 1.36641714</td><td>2.43142900 </td><td>1.8334272  </td><td>1.9258237  </td><td> 2.001458  </td><td> 2.090400  </td><td> 2.2776218 </td><td>  1.5673212</td></tr>\n",
       "\t<tr><td>1          </td><td>1          </td><td>1          </td><td>2          </td><td>2          </td><td>2.0345696  </td><td> 0.9418786 </td><td>-0.3944334 </td><td> 0.9079778 </td><td> 0.6311616 </td><td>⋯          </td><td> 1.7476104 </td><td> 1.9434823 </td><td> 2.59124107</td><td>2.50090412 </td><td>1.9428055  </td><td>2.0784329  </td><td> 2.107142  </td><td> 2.238025  </td><td> 1.2358743 </td><td>  1.7952327</td></tr>\n",
       "\t<tr><td>1          </td><td>1          </td><td>1          </td><td>2          </td><td>2          </td><td>2.0345696  </td><td> 0.9418786 </td><td>-0.3944334 </td><td> 1.2918296 </td><td> 1.1505191 </td><td>⋯          </td><td> 1.9060054 </td><td> 2.1254399 </td><td> 1.98660513</td><td>2.03873992 </td><td>2.1247771  </td><td>2.9206406  </td><td> 2.522536  </td><td> 2.090400  </td><td> 1.7929734 </td><td>  2.0582188</td></tr>\n",
       "\t<tr><td>2          </td><td>1          </td><td>2          </td><td>2          </td><td>1          </td><td>0.6948356  </td><td>-0.9007687 </td><td> 0.1145656 </td><td>-1.5807319 </td><td>-1.6147404 </td><td>⋯          </td><td> 0.8243239 </td><td> 0.6737904 </td><td>-0.01201297</td><td>0.02440638 </td><td>0.3783108  </td><td>0.9665415  </td><td>-1.257862  </td><td>-1.528963  </td><td>-1.2989517 </td><td>  0.6269521</td></tr>\n",
       "\t<tr><td>2          </td><td>1          </td><td>2          </td><td>2          </td><td>1          </td><td>0.6948356  </td><td>-0.9007687 </td><td> 0.1145656 </td><td>-1.4028305 </td><td>-1.4363840 </td><td>⋯          </td><td> 0.5814590 </td><td> 0.7942380 </td><td> 0.62937196</td><td>0.68037132 </td><td>0.8328974  </td><td>0.7718885  </td><td> 1.096525  </td><td> 0.866775  </td><td> 0.9776116 </td><td>  0.4597057</td></tr>\n",
       "\t<tr><td>2          </td><td>1          </td><td>2          </td><td>2          </td><td>1          </td><td>0.6948356  </td><td>-0.9007687 </td><td> 0.1145656 </td><td>-1.3151879 </td><td>-1.3735365 </td><td>⋯          </td><td>-6.5320245 </td><td>-3.2400310 </td><td> 0.00000000</td><td>0.00000000 </td><td>0.0000000  </td><td>0.0000000  </td><td> 0.000000  </td><td> 0.000000  </td><td>-8.2828356 </td><td>-10.1903551</td></tr>\n",
       "</tbody>\n",
       "</table>\n"
      ],
      "text/latex": [
       "\\begin{tabular}{r|llllllllllllllllllllllllllllllllllllllllllllllllllllllllllllllllllllllllllllllllllllllllllllllllllllllllllllllllllllllllllllllllllllllllllllllllllllllllllllllllllllllllllllllllllllllllllllllllllllllllllllllllllllllllllllllllllllllllllllllllllllllllllllllllllllllllllllllllllllllllllllllllllllllllllllllllllllllllllllllllllllllllllllllllllllllllllllllllllllllllllllllll}\n",
       " gender & event & ventilation & amine & admission\\_type\\_descr & age & bmi & sapsi\\_first & hr.t1 & hr.t2 & ⋯ & resp.t51 & resp.t52 & resp.t53 & resp.t54 & resp.t55 & resp.t56 & resp.t57 & resp.t58 & resp.t59 & resp.t60\\\\\n",
       "\\hline\n",
       "\t 1           & 1           & 1           & 2           & 2           & 2.0345696   &  0.9418786  & -0.3944334  &  1.0730000  &  1.0353817  & ⋯           &  2.1639474  &  2.1551219  &  1.36641714 & 2.43142900  & 1.8334272   & 1.9258237   &  2.001458   &  2.090400   &  2.2776218  &   1.5673212\\\\\n",
       "\t 1           & 1           & 1           & 2           & 2           & 2.0345696   &  0.9418786  & -0.3944334  &  0.9079778  &  0.6311616  & ⋯           &  1.7476104  &  1.9434823  &  2.59124107 & 2.50090412  & 1.9428055   & 2.0784329   &  2.107142   &  2.238025   &  1.2358743  &   1.7952327\\\\\n",
       "\t 1           & 1           & 1           & 2           & 2           & 2.0345696   &  0.9418786  & -0.3944334  &  1.2918296  &  1.1505191  & ⋯           &  1.9060054  &  2.1254399  &  1.98660513 & 2.03873992  & 2.1247771   & 2.9206406   &  2.522536   &  2.090400   &  1.7929734  &   2.0582188\\\\\n",
       "\t 2           & 1           & 2           & 2           & 1           & 0.6948356   & -0.9007687  &  0.1145656  & -1.5807319  & -1.6147404  & ⋯           &  0.8243239  &  0.6737904  & -0.01201297 & 0.02440638  & 0.3783108   & 0.9665415   & -1.257862   & -1.528963   & -1.2989517  &   0.6269521\\\\\n",
       "\t 2           & 1           & 2           & 2           & 1           & 0.6948356   & -0.9007687  &  0.1145656  & -1.4028305  & -1.4363840  & ⋯           &  0.5814590  &  0.7942380  &  0.62937196 & 0.68037132  & 0.8328974   & 0.7718885   &  1.096525   &  0.866775   &  0.9776116  &   0.4597057\\\\\n",
       "\t 2           & 1           & 2           & 2           & 1           & 0.6948356   & -0.9007687  &  0.1145656  & -1.3151879  & -1.3735365  & ⋯           & -6.5320245  & -3.2400310  &  0.00000000 & 0.00000000  & 0.0000000   & 0.0000000   &  0.000000   &  0.000000   & -8.2828356  & -10.1903551\\\\\n",
       "\\end{tabular}\n"
      ],
      "text/markdown": [
       "\n",
       "gender | event | ventilation | amine | admission_type_descr | age | bmi | sapsi_first | hr.t1 | hr.t2 | ⋯ | resp.t51 | resp.t52 | resp.t53 | resp.t54 | resp.t55 | resp.t56 | resp.t57 | resp.t58 | resp.t59 | resp.t60 | \n",
       "|---|---|---|---|---|---|\n",
       "| 1           | 1           | 1           | 2           | 2           | 2.0345696   |  0.9418786  | -0.3944334  |  1.0730000  |  1.0353817  | ⋯           |  2.1639474  |  2.1551219  |  1.36641714 | 2.43142900  | 1.8334272   | 1.9258237   |  2.001458   |  2.090400   |  2.2776218  |   1.5673212 | \n",
       "| 1           | 1           | 1           | 2           | 2           | 2.0345696   |  0.9418786  | -0.3944334  |  0.9079778  |  0.6311616  | ⋯           |  1.7476104  |  1.9434823  |  2.59124107 | 2.50090412  | 1.9428055   | 2.0784329   |  2.107142   |  2.238025   |  1.2358743  |   1.7952327 | \n",
       "| 1           | 1           | 1           | 2           | 2           | 2.0345696   |  0.9418786  | -0.3944334  |  1.2918296  |  1.1505191  | ⋯           |  1.9060054  |  2.1254399  |  1.98660513 | 2.03873992  | 2.1247771   | 2.9206406   |  2.522536   |  2.090400   |  1.7929734  |   2.0582188 | \n",
       "| 2           | 1           | 2           | 2           | 1           | 0.6948356   | -0.9007687  |  0.1145656  | -1.5807319  | -1.6147404  | ⋯           |  0.8243239  |  0.6737904  | -0.01201297 | 0.02440638  | 0.3783108   | 0.9665415   | -1.257862   | -1.528963   | -1.2989517  |   0.6269521 | \n",
       "| 2           | 1           | 2           | 2           | 1           | 0.6948356   | -0.9007687  |  0.1145656  | -1.4028305  | -1.4363840  | ⋯           |  0.5814590  |  0.7942380  |  0.62937196 | 0.68037132  | 0.8328974   | 0.7718885   |  1.096525   |  0.866775   |  0.9776116  |   0.4597057 | \n",
       "| 2           | 1           | 2           | 2           | 1           | 0.6948356   | -0.9007687  |  0.1145656  | -1.3151879  | -1.3735365  | ⋯           | -6.5320245  | -3.2400310  |  0.00000000 | 0.00000000  | 0.0000000   | 0.0000000   |  0.000000   |  0.000000   | -8.2828356  | -10.1903551 | \n",
       "\n",
       "\n"
      ],
      "text/plain": [
       "  gender event ventilation amine admission_type_descr age       bmi       \n",
       "1 1      1     1           2     2                    2.0345696  0.9418786\n",
       "2 1      1     1           2     2                    2.0345696  0.9418786\n",
       "3 1      1     1           2     2                    2.0345696  0.9418786\n",
       "4 2      1     2           2     1                    0.6948356 -0.9007687\n",
       "5 2      1     2           2     1                    0.6948356 -0.9007687\n",
       "6 2      1     2           2     1                    0.6948356 -0.9007687\n",
       "  sapsi_first hr.t1      hr.t2      ⋯ resp.t51   resp.t52   resp.t53   \n",
       "1 -0.3944334   1.0730000  1.0353817 ⋯  2.1639474  2.1551219  1.36641714\n",
       "2 -0.3944334   0.9079778  0.6311616 ⋯  1.7476104  1.9434823  2.59124107\n",
       "3 -0.3944334   1.2918296  1.1505191 ⋯  1.9060054  2.1254399  1.98660513\n",
       "4  0.1145656  -1.5807319 -1.6147404 ⋯  0.8243239  0.6737904 -0.01201297\n",
       "5  0.1145656  -1.4028305 -1.4363840 ⋯  0.5814590  0.7942380  0.62937196\n",
       "6  0.1145656  -1.3151879 -1.3735365 ⋯ -6.5320245 -3.2400310  0.00000000\n",
       "  resp.t54   resp.t55  resp.t56  resp.t57  resp.t58  resp.t59   resp.t60   \n",
       "1 2.43142900 1.8334272 1.9258237  2.001458  2.090400  2.2776218   1.5673212\n",
       "2 2.50090412 1.9428055 2.0784329  2.107142  2.238025  1.2358743   1.7952327\n",
       "3 2.03873992 2.1247771 2.9206406  2.522536  2.090400  1.7929734   2.0582188\n",
       "4 0.02440638 0.3783108 0.9665415 -1.257862 -1.528963 -1.2989517   0.6269521\n",
       "5 0.68037132 0.8328974 0.7718885  1.096525  0.866775  0.9776116   0.4597057\n",
       "6 0.00000000 0.0000000 0.0000000  0.000000  0.000000 -8.2828356 -10.1903551"
      ]
     },
     "metadata": {},
     "output_type": "display_data"
    },
    {
     "data": {
      "text/plain": [
       "\n",
       "   1    2 \n",
       "5649  141 "
      ]
     },
     "metadata": {},
     "output_type": "display_data"
    }
   ],
   "source": [
    "# Chargement des données \n",
    "df = read.csv(\"../../data/clean/df.csv\")\n",
    "\n",
    "df[,1:5]  <- data.frame(lapply(df[,1:5], as.factor))\n",
    "\n",
    "# Premières lignes du data \n",
    "head(df)\n",
    "\n",
    "# Dimensions\n",
    "# dim(df)\n",
    "table(df$event)\n",
    "\n",
    "# Type des variables \n",
    "# str(df)"
   ]
  },
  {
   "cell_type": "markdown",
   "metadata": {
    "deletable": true,
    "editable": true
   },
   "source": [
    "### 2.2 Modélisation et apprentissage statistiques\n",
    "\n",
    "#### 2.2.1 Extraction des échantillons \n"
   ]
  },
  {
   "cell_type": "code",
   "execution_count": 84,
   "metadata": {
<<<<<<< HEAD:scripts/notebooks/.ipynb_checkpoints/Untitled-checkpoint.ipynb
    "collapsed": true,
    "deletable": true,
    "editable": true
=======
    "collapsed": true
>>>>>>> e0a52adcf5eafc96ff4adb03d0cae49bf61f4188:scripts/notebooks/.ipynb_checkpoints/Python-checkpoint.ipynb
   },
   "outputs": [],
   "source": [
    "set.seed(20191) \n",
    "\n",
    "sample <- createDataPartition(df$event, p = .75, list = FALSE)\n",
    "train <- df[ sample,]\n",
    "test  <- df[-sample,]\n",
    "\n",
    "# Results : AUC, Accuracy, Time (sec) \n",
    "RES <- list()"
   ]
  },
  {
   "cell_type": "code",
   "execution_count": 89,
   "metadata": {
    "collapsed": true,
    "deletable": true,
    "editable": true
   },
   "outputs": [],
   "source": [
    "# Configuration des coeurs\n",
    "cl <- makeCluster(3)\n",
    "registerDoParallel(cl)"
   ]
  },
  {
   "cell_type": "code",
   "execution_count": null,
   "metadata": {
    "collapsed": true,
    "deletable": true,
    "editable": true
   },
   "outputs": [],
   "source": []
  },
  {
   "cell_type": "markdown",
   "metadata": {
    "deletable": true,
    "editable": true
   },
   "source": [
    "#### 2.2.2 Deep Learning\n",
    "\n"
   ]
  },
  {
   "cell_type": "code",
   "execution_count": 79,
   "metadata": {
    "collapsed": false,
    "deletable": true,
    "editable": true
   },
   "outputs": [
    {
     "name": "stderr",
     "output_type": "stream",
     "text": [
      "Warning message:\n",
      "“fermeture de la connexion inutilisée 9 (<-localhost:11360)”Warning message:\n",
      "“fermeture de la connexion inutilisée 8 (<-localhost:11360)”Warning message:\n",
      "“fermeture de la connexion inutilisée 7 (<-localhost:11360)”"
     ]
    },
    {
     "name": "stdout",
     "output_type": "stream",
     "text": [
      "Area under the curve: 0.7153\n"
     ]
    }
   ],
   "source": [
    "before <- Sys.time()\n",
    "\n",
    "# model\n",
    "deep.fit <- nnet::nnet(event ~ ., data = train ,size = 13,\n",
    "                      decay = 1.6 ,MaxNWts = 5000,\n",
    "                      maxit = 100, trace = F) # en cours d'optimisation \n",
    "\n",
    "# predictions\n",
    "predictions_1 <- as.numeric(predict(object = deep.fit, newdata = test, type = c(\"raw\")))\n",
    "after <- Sys.time()\n",
    "\n",
    "# performance \n",
    "auc <- roc(as.numeric(test$event), predictions_1)\n",
    "print (auc$auc)\n",
    "\n",
    "# Time \n",
    "time <- after - before\n",
    "\n",
    "# Result \n",
    "RES[[1]] <- c(auc$auc, time)"
   ]
  },
  {
   "cell_type": "markdown",
   "metadata": {
    "deletable": true,
    "editable": true
   },
   "source": [
    "#### 2.2.3 Forêts aléatoires\n"
   ]
  },
  {
   "cell_type": "code",
   "execution_count": 88,
   "metadata": {
    "collapsed": false,
    "deletable": true,
    "editable": true
   },
   "outputs": [
    {
     "name": "stdout",
     "output_type": "stream",
     "text": [
      "Area under the curve: 0.5139\n"
     ]
    }
   ],
   "source": [
    "before <- Sys.time()\n",
    "\n",
    "#rf.fit <- randomForest(event ~ . , data = train, \n",
    "#                       ntree = 10,\n",
    "#                       importance = F )\n",
    "\n",
    "rf.fit <- randomForest(event ~ ., data = train,\n",
    "             ntree = 100,\n",
    "             mtry = floor(sqrt(ncol(train))),\n",
    "             replace = TRUE,\n",
    "             sampsize =  ceiling(.632*nrow(train)),\n",
    "             nodesize = 1,\n",
    "                maxnodes = NULL)\n",
    "\n",
    "predict <- predict(rf.fit, test, type = \"vote\", norm.votes = TRUE)\n",
    "class_predict<- max.col(predict)\n",
    "after <- Sys.time()\n",
    "\n",
    "auc2 <- roc(test$event, class_predict)\n",
    "print(auc2$auc)\n",
    "\n",
    "time <- after - before\n",
    "\n",
    "RES[[2]] <- c(auc2$auc,time)"
   ]
  },
  {
   "cell_type": "markdown",
   "metadata": {
    "deletable": true,
    "editable": true
   },
   "source": [
    "#### 2.2.4 Arbre de classification\n"
   ]
  },
  {
   "cell_type": "code",
   "execution_count": null,
   "metadata": {
    "collapsed": true,
    "deletable": true,
    "editable": true
   },
   "outputs": [],
   "source": []
  },
  {
   "cell_type": "markdown",
   "metadata": {
    "deletable": true,
    "editable": true
   },
   "source": [
    "#### 2.2.5 K-plus proches voisins\n"
   ]
  },
  {
   "cell_type": "code",
   "execution_count": null,
   "metadata": {
    "collapsed": true,
    "deletable": true,
    "editable": true
   },
   "outputs": [],
   "source": []
  },
  {
   "cell_type": "markdown",
   "metadata": {
    "deletable": true,
    "editable": true
   },
   "source": [
    "#### 2.2.6 Machine à support de vecteurs\n"
   ]
  },
  {
   "cell_type": "code",
   "execution_count": null,
   "metadata": {
    "collapsed": true,
    "deletable": true,
    "editable": true
   },
   "outputs": [],
   "source": []
  },
  {
   "cell_type": "markdown",
   "metadata": {
    "deletable": true,
    "editable": true
   },
   "source": [
    "#### 2.2.7 Naive Bayes\n"
   ]
  },
  {
   "cell_type": "code",
   "execution_count": null,
   "metadata": {
    "collapsed": true,
    "deletable": true,
    "editable": true
   },
   "outputs": [],
   "source": []
  },
  {
   "cell_type": "markdown",
   "metadata": {
    "deletable": true,
    "editable": true
   },
   "source": [
    "#### 2.2.8 C.50"
   ]
  },
  {
   "cell_type": "code",
   "execution_count": null,
   "metadata": {
    "collapsed": true,
    "deletable": true,
    "editable": true
   },
   "outputs": [],
   "source": []
  },
  {
   "cell_type": "markdown",
   "metadata": {
    "deletable": true,
    "editable": true
   },
   "source": [
    "### 2.3 Table des résultats "
   ]
  },
  {
   "cell_type": "code",
   "execution_count": null,
   "metadata": {
    "collapsed": true,
    "deletable": true,
    "editable": true
   },
   "outputs": [],
   "source": [
    "results <- as.data.frame(matrix(unlist(RES), ncol = 5,byrow = T))\n",
    "results <- sapply(results, function(x) round(x,2))\n",
    "colnames(results) <- c(\"AUC\",\"Accuracy\",\"Time ( sec )\")\n",
    "row.names(results) <- c(\"Deep Learning\",\"Random Forest\",\n",
    "                        \"Classification Tree\", \"KNN\",\n",
    "                        \"SVM\",\"Naive Bayes\",\"C50\")"
   ]
  }
 ],
 "metadata": {
  "kernelspec": {
   "display_name": "Python 3",
   "language": "python",
   "name": "python3"
  },
  "language_info": {
   "codemirror_mode": {
    "name": "ipython",
    "version": 3
   },
   "file_extension": ".py",
   "mimetype": "text/x-python",
   "name": "python",
   "nbconvert_exporter": "python",
   "pygments_lexer": "ipython3",
<<<<<<< HEAD:scripts/notebooks/.ipynb_checkpoints/Untitled-checkpoint.ipynb
   "version": "3.5.3"
=======
   "version": "3.5.2"
>>>>>>> e0a52adcf5eafc96ff4adb03d0cae49bf61f4188:scripts/notebooks/.ipynb_checkpoints/Python-checkpoint.ipynb
  }
 },
 "nbformat": 4,
 "nbformat_minor": 2
}
